{
 "cells": [
  {
   "cell_type": "markdown",
   "metadata": {},
   "source": [
    "Question 1: Products are sourced independently"
   ]
  },
  {
   "cell_type": "code",
   "execution_count": 1,
   "metadata": {},
   "outputs": [
    {
     "data": {
      "text/plain": [
       "{'1': {'EOQ': 148.32396974191326,\n",
       "  'Order Frequency': 6.741998624632421,\n",
       "  'Annual Holding Cost': 741.6198487095663,\n",
       "  'Annual Order Cost': 741.6198487095663,\n",
       "  'Total Annual Cost': 1483.2396974191327},\n",
       " '2': {'EOQ': 77.45966692414834,\n",
       "  'Order Frequency': 3.872983346207417,\n",
       "  'Annual Holding Cost': 464.75800154489,\n",
       "  'Annual Order Cost': 464.75800154489,\n",
       "  'Total Annual Cost': 929.51600308978},\n",
       " '3': {'EOQ': 64.54972243679029,\n",
       "  'Order Frequency': 1.5491933384829666,\n",
       "  'Annual Holding Cost': 193.64916731037087,\n",
       "  'Annual Order Cost': 193.6491673103708,\n",
       "  'Total Annual Cost': 387.2983346207417},\n",
       " '4': {'EOQ': 45.64354645876384,\n",
       "  'Order Frequency': 1.0954451150103321,\n",
       "  'Annual Holding Cost': 136.93063937629154,\n",
       "  'Annual Order Cost': 136.9306393762915,\n",
       "  'Total Annual Cost': 273.8612787525831}}"
      ]
     },
     "execution_count": 1,
     "metadata": {},
     "output_type": "execute_result"
    }
   ],
   "source": [
    "# Given values\n",
    "demands = {\"1\": 1000, \"2\": 300, \"3\": 100, \"4\": 50}\n",
    "S_common = 100  # Common transportation cost\n",
    "S_specific = {\"1\": 10, \"2\": 20, \"3\": 25, \"4\": 25}  # Product-specific order cost\n",
    "C = {\"1\": 50, \"2\": 60, \"3\": 30, \"4\": 30}  # Unit cost for each product\n",
    "h_percentage = 0.20  # Holding cost as a percentage of unit cost\n",
    "\n",
    "# Corrected calculation for holding cost per unit per year for each product\n",
    "h = {product: h_percentage * cost for product, cost in C.items()}\n",
    "\n",
    "# Corrected calculations for each product\n",
    "results = {}\n",
    "for product, D in demands.items():\n",
    "    # Corrected total setup or order cost per order for this product\n",
    "    S = S_common + S_specific[product]\n",
    "    # Corrected EOQ calculation using the correct holding cost for the product\n",
    "    EOQ = ((2 * D * S) / h[product]) ** 0.5\n",
    "    # Order frequency\n",
    "    order_frequency = D / EOQ\n",
    "    # Annual Holding Cost\n",
    "    annual_holding_cost = (EOQ * h[product]) / 2\n",
    "    # Annual Order Cost\n",
    "    annual_order_cost = (D / EOQ) * S\n",
    "    # Store results\n",
    "    results[product] = {\n",
    "        \"EOQ\": EOQ,\n",
    "        \"Order Frequency\": order_frequency,\n",
    "        \"Annual Holding Cost\": annual_holding_cost,\n",
    "        \"Annual Order Cost\": annual_order_cost,\n",
    "        \"Total Annual Cost\": annual_holding_cost + annual_order_cost\n",
    "    }\n",
    "\n",
    "results\n"
   ]
  },
  {
   "cell_type": "code",
   "execution_count": 2,
   "metadata": {},
   "outputs": [
    {
     "name": "stdout",
     "output_type": "stream",
     "text": [
      "Annual operational cost:  3073.9153138822376\n"
     ]
    }
   ],
   "source": [
    "# Sum the Annual Holding Cost for all products\n",
    "annual_operational_cost = sum(product['Total Annual Cost'] for product in results.values())\n",
    "print('Annual operational cost: ',annual_operational_cost)"
   ]
  },
  {
   "cell_type": "markdown",
   "metadata": {},
   "source": [
    "Question 2: All four products are sourced with the same frequency"
   ]
  },
  {
   "cell_type": "code",
   "execution_count": 3,
   "metadata": {},
   "outputs": [
    {
     "data": {
      "text/plain": [
       "({'Product 1': {'D': 1000,\n",
       "   'H': 0.2,\n",
       "   'C': 50,\n",
       "   'Optimal Order Size': 157.56771943166706,\n",
       "   'Annual Holding Cost': 787.8385971583353,\n",
       "   'Order Frequency': 6.346477588219924},\n",
       "  'Product 2': {'D': 300,\n",
       "   'H': 0.2,\n",
       "   'C': 60,\n",
       "   'Optimal Order Size': 47.27031582950012,\n",
       "   'Annual Holding Cost': 283.6218949770007,\n",
       "   'Order Frequency': 6.346477588219924},\n",
       "  'Product 3': {'D': 100,\n",
       "   'H': 0.2,\n",
       "   'C': 30,\n",
       "   'Optimal Order Size': 15.756771943166706,\n",
       "   'Annual Holding Cost': 47.27031582950012,\n",
       "   'Order Frequency': 6.346477588219924},\n",
       "  'Product 4': {'D': 50,\n",
       "   'H': 0.2,\n",
       "   'C': 30,\n",
       "   'Optimal Order Size': 7.878385971583353,\n",
       "   'Annual Holding Cost': 23.63515791475006,\n",
       "   'Order Frequency': 6.346477588219924}},\n",
       " 1142.3659658795862,\n",
       " 2284.7319317591728,\n",
       " 6.346477588219924)"
      ]
     },
     "execution_count": 3,
     "metadata": {},
     "output_type": "execute_result"
    }
   ],
   "source": [
    "import math\n",
    "\n",
    "# Constants\n",
    "S_star = 180  # Total setup or order cost when aggregating for the given case\n",
    "\n",
    "# Product details: demand (D), holding cost rate (H), cost (C) from the provided image\n",
    "products = {\n",
    "    \"Product 1\": {\"D\": 1000, \"H\": 0.2, \"C\": 50},\n",
    "    \"Product 2\": {\"D\": 300, \"H\": 0.2, \"C\": 60},\n",
    "    \"Product 3\": {\"D\": 100, \"H\": 0.2, \"C\": 30},\n",
    "    \"Product 4\": {\"D\": 50, \"H\": 0.2, \"C\": 30}\n",
    "}\n",
    "\n",
    "\n",
    "\n",
    "# Calculate n_star (optimal number of orders per year when aggregating)\n",
    "nominator = sum([details[\"D\"] * details[\"H\"] * details[\"C\"] for details in products.values()])\n",
    "n_star = math.sqrt(nominator / (2 * S_star))\n",
    "\n",
    "# Calculate optimal order size, order frequency, and annual holding cost for each product\n",
    "for product, details in products.items():\n",
    "    # Optimal order size for each product\n",
    "    details[\"Optimal Order Size\"] = details[\"D\"] / n_star\n",
    "    # Annual holding cost for each product\n",
    "    details[\"Annual Holding Cost\"] = details[\"Optimal Order Size\"] * details[\"H\"] * details[\"C\"] / 2\n",
    "\n",
    "# Annual order cost when aggregating\n",
    "annual_order_cost_aggregation = n_star * S_star\n",
    "# Total annual cost when aggregating\n",
    "total_annual_cost_aggregation = annual_order_cost_aggregation + sum([details[\"Annual Holding Cost\"] for details in products.values()])\n",
    "\n",
    "# Update the products with the calculated order frequency for aggregation\n",
    "order_frequency_aggregation = n_star\n",
    "for product in products:\n",
    "    products[product][\"Order Frequency\"] = order_frequency_aggregation\n",
    "\n",
    "products, annual_order_cost_aggregation, total_annual_cost_aggregation, n_star\n"
   ]
  },
  {
   "cell_type": "code",
   "execution_count": 4,
   "metadata": {},
   "outputs": [],
   "source": [
    "total_ordering_cost = S_star*order_frequency_aggregation"
   ]
  },
  {
   "cell_type": "code",
   "execution_count": 5,
   "metadata": {},
   "outputs": [],
   "source": [
    "# Sum the Annual Holding Cost for all products\n",
    "total_annual_holding_cost = sum(product['Annual Holding Cost'] for product in products.values())"
   ]
  },
  {
   "cell_type": "code",
   "execution_count": 6,
   "metadata": {},
   "outputs": [
    {
     "name": "stdout",
     "output_type": "stream",
     "text": [
      "Annual operational cost:  2284.7319317591728\n"
     ]
    }
   ],
   "source": [
    "annual_operational_cost= total_ordering_cost+total_annual_holding_cost\n",
    "print('Annual operational cost: ',annual_operational_cost)"
   ]
  },
  {
   "cell_type": "markdown",
   "metadata": {},
   "source": [
    "Question 3: Order frequencies are determined according to the tailored aggregation strategy"
   ]
  },
  {
   "cell_type": "code",
   "execution_count": 9,
   "metadata": {},
   "outputs": [
    {
     "name": "stdout",
     "output_type": "stream",
     "text": [
      "Tailored Aggregation Total Cost: 2838.1304269729926\n"
     ]
    }
   ],
   "source": [
    "import numpy as np\n",
    "\n",
    "# Redefine the provided data\n",
    "annual_demand = np.array([1000, 300, 100, 50])  # Annual demand for each of the four products\n",
    "ordering_costs = np.array([10, 20, 25, 25])  # Ordering costs specific to each product\n",
    "unit_costs = np.array([50, 60, 30, 30])  # Unit cost for each of the four products\n",
    "holding_cost_rate = 0.2  # Holding cost rate\n",
    "\n",
    "# Calculate the combined ordering cost\n",
    "combined_ordering_cost = 100 + np.sum(ordering_costs)  # Sum common and specific ordering costs\n",
    "\n",
    "# Calculate the holding cost per unit for each product\n",
    "holding_costs_per_unit = holding_cost_rate * unit_costs\n",
    "\n",
    "# Calculate EOQ for each group, using their combined ordering cost and average holding cost\n",
    "def calculate_eoq(demand, holding_cost, order_cost):\n",
    "    return np.sqrt((2 * demand * order_cost) / holding_cost)\n",
    "\n",
    "# Calculate total cost (ordering cost + holding cost) for each group\n",
    "def calculate_total_cost(demand, holding_cost, order_cost):\n",
    "    eoq = calculate_eoq(demand, holding_cost, order_cost)\n",
    "    total_ordering_cost = (demand / eoq) * order_cost\n",
    "    total_holding_cost = (eoq / 2) * holding_cost\n",
    "    return total_ordering_cost + total_holding_cost\n",
    "\n",
    "# Group products by their ordering costs\n",
    "grouped_demands = [np.sum(annual_demand[:2]), np.sum(annual_demand[2:])]\n",
    "grouped_holding_costs = [np.mean(holding_costs_per_unit[:2]), np.mean(holding_costs_per_unit[2:])]\n",
    "\n",
    "# Calculate total cost for each group\n",
    "group_costs = [calculate_total_cost(demand, holding_cost, combined_ordering_cost) for demand, holding_cost in zip(grouped_demands, grouped_holding_costs)]\n",
    "\n",
    "# Sum the costs for the two groups to get the total tailored cost\n",
    "total_tailored_cost = np.sum(group_costs)\n",
    "\n",
    "print(\"Tailored Aggregation Total Cost:\", total_tailored_cost)\n"
   ]
  }
 ],
 "metadata": {
  "kernelspec": {
   "display_name": "My Python Environment",
   "language": "python",
   "name": "myenv"
  },
  "language_info": {
   "codemirror_mode": {
    "name": "ipython",
    "version": 3
   },
   "file_extension": ".py",
   "mimetype": "text/x-python",
   "name": "python",
   "nbconvert_exporter": "python",
   "pygments_lexer": "ipython3",
   "version": "3.8.18"
  }
 },
 "nbformat": 4,
 "nbformat_minor": 4
}
